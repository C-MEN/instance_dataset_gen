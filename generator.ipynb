{
 "cells": [
  {
   "cell_type": "code",
   "execution_count": 10,
   "metadata": {},
   "outputs": [],
   "source": [
    "import parseTrackletXML as xmlParser\n",
    "import os\n",
    "import numpy as np"
   ]
  },
  {
   "cell_type": "code",
   "execution_count": 11,
   "metadata": {},
   "outputs": [
    {
     "name": "stdout",
     "output_type": "stream",
     "text": [
      "/usr/app/code/data/Kitti/2011_09_26\n"
     ]
    }
   ],
   "source": [
    "root = os.getcwd()\n",
    "\n",
    "raw_data = root+'/Kitti/2011_09_26'\n",
    "print (raw_data)"
   ]
  },
  {
   "cell_type": "code",
   "execution_count": 12,
   "metadata": {},
   "outputs": [],
   "source": [
    "# for path in os.listdir(raw_data):\n",
    "#     if path[-4:] == 'sync':\n",
    "#         #print (path)\n",
    "#         Data_path = raw_data+'/'+path\n",
    "#         for dir_ in os.listdir(Data_path):\n",
    "#             #print (dir_)\n",
    "#             if dir_ == 'velodyne_points':\n",
    "#                 lidar = Data_path +'/'+dir_+'/data'\n",
    "#                 for bin_lidar in os.listdir(lidar):\n",
    "#                     print (bin_lidar)"
   ]
  },
  {
   "cell_type": "code",
   "execution_count": 13,
   "metadata": {},
   "outputs": [],
   "source": [
    "def make_dir(path,method=''):\n",
    "    for path in os.listdir(path):\n",
    "        print(path)\n",
    "        if path[-4:] == 'sync':\n",
    "            Data_path = raw_data+'/'+path\n",
    "            #for dir_ in os.listdir(Data_path):\n",
    "            #    if dir_ == 'velodyne_points':\n",
    "            #lidar = Data_path +'/'+velodyne_points+'/data'\n",
    "            laber = raw_data+'/label/'+path\n",
    "            xml_path = Data_path +'/tracklet_labels.xml'\n",
    "            if os.path.exists(laber):\n",
    "                print('the file has been made')\n",
    "            else:\n",
    "                os.makedirs(laber)\n",
    "                #for bin_lidar in os.listdir(lidar):\n",
    "            method(xml_path,laber,way=method)\n"
   ]
  },
  {
   "cell_type": "code",
   "execution_count": 14,
   "metadata": {},
   "outputs": [],
   "source": [
    "def method(dir_path,label_path,way=''):\n",
    "    data = xmlParser.parseXML(dir_path)\n",
    "\n",
    "    for IT,it in enumerate(data):\n",
    "        h,w,l = it.size\n",
    "        label = it.objectType\n",
    "        for translation, rotation, state, occlusion, truncation, amtOcclusion, amtBorders, absoluteFrameNumber in it:\n",
    "            id = absoluteFrameNumber\n",
    "            print( id)\n",
    "            x,y,z =translation\n",
    "            id= '%03d'% id\n",
    "            print( id)\n",
    "\n",
    "            path = label_path+'/0000000'+str(id)+'.txt'\n",
    "            #print path\n",
    "            if way=='dir':\n",
    "                if os.path.exists(path):\n",
    "                    print ('youle')\n",
    "                else:\n",
    "                    os.mknod(path)\n",
    "            else:\n",
    "                    file=open(path,'a')\n",
    "                    print (label)\n",
    "                    file.write(label)\n",
    "                    file.write(' ')\n",
    "\n",
    "                    file.write('1')\n",
    "                    file.write(' ')\n",
    "\n",
    "                    file.write('2')\n",
    "                    file.write(' ')\n",
    "\n",
    "                    file.write('3')\n",
    "                    file.write(' ')\n",
    "\n",
    "                    file.write('4')\n",
    "                    file.write(' ')\n",
    "\n",
    "                    file.write('5')\n",
    "                    file.write(' ')\n",
    "\n",
    "                    file.write('6')\n",
    "                    file.write(' ')\n",
    "\n",
    "                    file.write('7')\n",
    "                    file.write(' ')\n",
    "\n",
    "                    file.write(str(h))\n",
    "                    file.write(' ')\n",
    "                    file.write(str(w))\n",
    "                    file.write(' ')\n",
    "\n",
    "                    file.write(str(l))\n",
    "                    file.write(' ')\n",
    "\n",
    "                    file.write(str(x))\n",
    "                    file.write(' ')\n",
    "\n",
    "                    file.write(str(y))\n",
    "                    file.write(' ')\n",
    "\n",
    "                    file.write(str(z))\n",
    "                    file.write(' ')\n",
    "\n",
    "                    file.write(str(rotation[2]))\n",
    "                    file.write('\\n')\n",
    "                    file.close()\n",
    "\n",
    "#method(way='')\n"
   ]
  },
  {
   "cell_type": "code",
   "execution_count": 15,
   "metadata": {},
   "outputs": [
    {
     "name": "stdout",
     "output_type": "stream",
     "text": [
      "the file has been made\n"
     ]
    },
    {
     "ename": "TypeError",
     "evalue": "'str' object is not callable",
     "output_type": "error",
     "traceback": [
      "\u001b[0;31m---------------------------------------------------------------------------\u001b[0m",
      "\u001b[0;31mTypeError\u001b[0m                                 Traceback (most recent call last)",
      "\u001b[0;32m<ipython-input-15-69a4b285616f>\u001b[0m in \u001b[0;36m<module>\u001b[0;34m()\u001b[0m\n\u001b[0;32m----> 1\u001b[0;31m \u001b[0mmake_dir\u001b[0m\u001b[0;34m(\u001b[0m\u001b[0mraw_data\u001b[0m\u001b[0;34m)\u001b[0m\u001b[0;34m\u001b[0m\u001b[0m\n\u001b[0m",
      "\u001b[0;32m<ipython-input-13-a26765bc8fb9>\u001b[0m in \u001b[0;36mmake_dir\u001b[0;34m(path, method)\u001b[0m\n\u001b[1;32m     13\u001b[0m                 \u001b[0mos\u001b[0m\u001b[0;34m.\u001b[0m\u001b[0mmakedirs\u001b[0m\u001b[0;34m(\u001b[0m\u001b[0mlaber\u001b[0m\u001b[0;34m)\u001b[0m\u001b[0;34m\u001b[0m\u001b[0m\n\u001b[1;32m     14\u001b[0m                 \u001b[0;31m#for bin_lidar in os.listdir(lidar):\u001b[0m\u001b[0;34m\u001b[0m\u001b[0;34m\u001b[0m\u001b[0m\n\u001b[0;32m---> 15\u001b[0;31m             \u001b[0mmethod\u001b[0m\u001b[0;34m(\u001b[0m\u001b[0mxml_path\u001b[0m\u001b[0;34m,\u001b[0m\u001b[0mlaber\u001b[0m\u001b[0;34m,\u001b[0m\u001b[0mway\u001b[0m\u001b[0;34m=\u001b[0m\u001b[0mmethod\u001b[0m\u001b[0;34m)\u001b[0m\u001b[0;34m\u001b[0m\u001b[0m\n\u001b[0m",
      "\u001b[0;31mTypeError\u001b[0m: 'str' object is not callable"
     ]
    }
   ],
   "source": [
    "make_dir(raw_data)"
   ]
  },
  {
   "cell_type": "code",
   "execution_count": 7,
   "metadata": {},
   "outputs": [],
   "source": [
    "import os"
   ]
  },
  {
   "cell_type": "code",
   "execution_count": 8,
   "metadata": {},
   "outputs": [],
   "source": [
    "\n",
    "\n",
    "type = 'velodyne_points'\n",
    "root_txt ='test.txt'\n"
   ]
  },
  {
   "cell_type": "code",
   "execution_count": 9,
   "metadata": {},
   "outputs": [],
   "source": [
    "file_object = open(root_txt,'w')"
   ]
  },
  {
   "cell_type": "code",
   "execution_count": 10,
   "metadata": {},
   "outputs": [
    {
     "name": "stdout",
     "output_type": "stream",
     "text": [
      "0000000040.bin\n",
      "1\n",
      "0000000082.bin\n",
      "2\n"
     ]
    },
    {
     "ename": "ValueError",
     "evalue": "I/O operation on closed file.",
     "output_type": "error",
     "traceback": [
      "\u001b[0;31m---------------------------------------------------------------------------\u001b[0m",
      "\u001b[0;31mValueError\u001b[0m                                Traceback (most recent call last)",
      "\u001b[0;32m<ipython-input-10-90a237fba8f9>\u001b[0m in \u001b[0;36m<module>\u001b[0;34m()\u001b[0m\n\u001b[1;32m     13\u001b[0m                     \u001b[0mlidar_name\u001b[0m \u001b[0;34m=\u001b[0m \u001b[0mData_file\u001b[0m\u001b[0;34m+\u001b[0m\u001b[0;34m'/'\u001b[0m\u001b[0;34m+\u001b[0m\u001b[0;34m'label/'\u001b[0m\u001b[0;34m+\u001b[0m\u001b[0mdata\u001b[0m\u001b[0;34m[\u001b[0m\u001b[0;34m:\u001b[0m\u001b[0;34m-\u001b[0m\u001b[0;36m4\u001b[0m\u001b[0;34m]\u001b[0m\u001b[0;34m+\u001b[0m\u001b[0;34m'.txt'\u001b[0m\u001b[0;34m\u001b[0m\u001b[0m\n\u001b[1;32m     14\u001b[0m                     \u001b[0;31m#print(root_name)\u001b[0m\u001b[0;34m\u001b[0m\u001b[0;34m\u001b[0m\u001b[0m\n\u001b[0;32m---> 15\u001b[0;31m                     \u001b[0mfile_object\u001b[0m\u001b[0;34m.\u001b[0m\u001b[0mwrite\u001b[0m\u001b[0;34m(\u001b[0m\u001b[0mroot_name\u001b[0m\u001b[0;34m)\u001b[0m\u001b[0;34m\u001b[0m\u001b[0m\n\u001b[0m\u001b[1;32m     16\u001b[0m                     \u001b[0mfile_object\u001b[0m\u001b[0;34m.\u001b[0m\u001b[0mwrite\u001b[0m\u001b[0;34m(\u001b[0m\u001b[0;34m' '\u001b[0m\u001b[0;34m)\u001b[0m\u001b[0;34m\u001b[0m\u001b[0m\n\u001b[1;32m     17\u001b[0m                     \u001b[0mfile_object\u001b[0m\u001b[0;34m.\u001b[0m\u001b[0mwrite\u001b[0m\u001b[0;34m(\u001b[0m\u001b[0mlidar_name\u001b[0m\u001b[0;34m)\u001b[0m\u001b[0;34m\u001b[0m\u001b[0m\n",
      "\u001b[0;31mValueError\u001b[0m: I/O operation on closed file."
     ]
    }
   ],
   "source": [
    "a =0\n",
    "for path in os.listdir(raw_data):\n",
    "    if path[-4:] == 'sync':\n",
    "        Data_file = raw_data+'/'+path\n",
    "        for file in os.listdir(Data_file):\n",
    "            if file ==type:\n",
    "                lidar_data = Data_file + '/'+ file +'/data'\n",
    "                for data in os.listdir(lidar_data):\n",
    "                    print(data)\n",
    "                    a= a+1\n",
    "                    print(a)\n",
    "                    root_name = lidar_data +'/'+data\n",
    "                    lidar_name = Data_file+'/'+'label/'+data[:-4]+'.txt'\n",
    "                    #print(root_name)\n",
    "                    file_object.write(root_name)\n",
    "                    file_object.write(' ')\n",
    "                    file_object.write(lidar_name)\n",
    "                    file_object.write('\\n')\n",
    "                    file_object.close()"
   ]
  },
  {
   "cell_type": "code",
   "execution_count": null,
   "metadata": {},
   "outputs": [],
   "source": []
  }
 ],
 "metadata": {
  "kernelspec": {
   "display_name": "Python 2",
   "language": "python",
   "name": "python2"
  },
  "language_info": {
   "codemirror_mode": {
    "name": "ipython",
    "version": 3
   },
   "file_extension": ".py",
   "mimetype": "text/x-python",
   "name": "python",
   "nbconvert_exporter": "python",
   "pygments_lexer": "ipython3",
   "version": "3.5.2"
  }
 },
 "nbformat": 4,
 "nbformat_minor": 2
}
